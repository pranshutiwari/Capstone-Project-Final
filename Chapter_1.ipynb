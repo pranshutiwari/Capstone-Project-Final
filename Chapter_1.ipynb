{
  "nbformat": 4,
  "nbformat_minor": 0,
  "metadata": {
    "colab": {
      "name": "Chapter 1.ipynb",
      "provenance": [],
      "authorship_tag": "ABX9TyOBbFDmteeGZTa10/fL1LTG",
      "include_colab_link": true
    },
    "kernelspec": {
      "name": "python3",
      "display_name": "Python 3"
    },
    "language_info": {
      "name": "python"
    }
  },
  "cells": [
    {
      "cell_type": "markdown",
      "metadata": {
        "id": "view-in-github",
        "colab_type": "text"
      },
      "source": [
        "<a href=\"https://colab.research.google.com/github/pranshutiwari/Capstone-Project-Final/blob/master/Chapter_1.ipynb\" target=\"_parent\"><img src=\"https://colab.research.google.com/assets/colab-badge.svg\" alt=\"Open In Colab\"/></a>"
      ]
    },
    {
      "cell_type": "code",
      "execution_count": 1,
      "metadata": {
        "id": "2SOsIVo_vPMw"
      },
      "outputs": [],
      "source": [
        "import numpy as np\n",
        "import pandas as pd\n",
        "from random import sample\n",
        "from sklearn.linear_model import LinearRegression\n",
        "from matplotlib import pyplot as plt"
      ]
    },
    {
      "cell_type": "code",
      "source": [
        "X = np.random.randint(4, size=(22, 5))\n",
        "y=np.random.randint(0,5,22)\n",
        "y"
      ],
      "metadata": {
        "colab": {
          "base_uri": "https://localhost:8080/"
        },
        "id": "9XN57Hs_vr5g",
        "outputId": "5dd6240f-0af6-4509-87a1-35fca415cbe1"
      },
      "execution_count": 2,
      "outputs": [
        {
          "output_type": "execute_result",
          "data": {
            "text/plain": [
              "array([0, 4, 2, 0, 1, 2, 4, 3, 0, 0, 3, 4, 4, 1, 0, 4, 1, 1, 1, 2, 3, 4])"
            ]
          },
          "metadata": {},
          "execution_count": 2
        }
      ]
    },
    {
      "cell_type": "code",
      "source": [
        "DF=pd.DataFrame(X)"
      ],
      "metadata": {
        "id": "CEX8w6IIf3gL"
      },
      "execution_count": 3,
      "outputs": []
    },
    {
      "cell_type": "code",
      "source": [
        "cv=5\n",
        "x=np.arange(0,np.floor(DF.shape[0]/cv)*cv)"
      ],
      "metadata": {
        "id": "0DuMd4JghC9I"
      },
      "execution_count": 4,
      "outputs": []
    },
    {
      "cell_type": "code",
      "source": [
        "x"
      ],
      "metadata": {
        "colab": {
          "base_uri": "https://localhost:8080/"
        },
        "id": "eZN-TOAY5xi-",
        "outputId": "c1480a11-ca35-45b6-9342-54f8413962ac"
      },
      "execution_count": 5,
      "outputs": [
        {
          "output_type": "execute_result",
          "data": {
            "text/plain": [
              "array([ 0.,  1.,  2.,  3.,  4.,  5.,  6.,  7.,  8.,  9., 10., 11., 12.,\n",
              "       13., 14., 15., 16., 17., 18., 19.])"
            ]
          },
          "metadata": {},
          "execution_count": 5
        }
      ]
    },
    {
      "cell_type": "code",
      "source": [
        "p=[]\n",
        "for i in range(cv):\n",
        "    p.append(i)\n",
        "max=int(np.floor(DF.shape[0]/cv))\n",
        "list1=p*max\n",
        "list1"
      ],
      "metadata": {
        "colab": {
          "base_uri": "https://localhost:8080/"
        },
        "id": "sISLStyGIbAC",
        "outputId": "f51b1b6d-004c-4a3a-cad0-b08853197197"
      },
      "execution_count": 9,
      "outputs": [
        {
          "output_type": "execute_result",
          "data": {
            "text/plain": [
              "[0, 1, 2, 3, 4, 0, 1, 2, 3, 4, 0, 1, 2, 3, 4, 0, 1, 2, 3, 4]"
            ]
          },
          "metadata": {},
          "execution_count": 9
        }
      ]
    },
    {
      "cell_type": "code",
      "source": [
        "r= np.arange(0,(DF.shape[0]-(np.floor(DF.shape[0]/cv)*cv)))\n",
        "print(r)\n",
        "m=r.tolist()\n",
        "res = [int(item) for item in m]\n",
        "res"
      ],
      "metadata": {
        "colab": {
          "base_uri": "https://localhost:8080/"
        },
        "id": "Qk00zN1up5iv",
        "outputId": "1fcf79ca-4d8e-4981-8740-3864db2a8f53"
      },
      "execution_count": 8,
      "outputs": [
        {
          "output_type": "stream",
          "name": "stdout",
          "text": [
            "[0. 1.]\n"
          ]
        },
        {
          "output_type": "execute_result",
          "data": {
            "text/plain": [
              "[0, 1]"
            ]
          },
          "metadata": {},
          "execution_count": 8
        }
      ]
    },
    {
      "cell_type": "code",
      "source": [
        "def mse(predictions, targets):\n",
        "    return np.mean(((predictions - targets) ** 2))\n",
        "cv_groups=[*list1,*res]\n",
        "cv_sample=sample(cv_groups,len(cv_groups))\n",
        "cv_sample2=np.array(cv_sample)\n",
        "cv_score=[]\n",
        "mse_cv=[]\n",
        "for item in range(cv):# each item in sampling number\n",
        "      p=np.where(cv_sample2==item)[0]\n",
        "      q=np.where(cv_sample2!=item)[0]\n",
        "      reg=LinearRegression()\n",
        "      model=reg.fit(DF.iloc[q,],y[q])\n",
        "      score1=model.score(DF.iloc[p,],y[p])\n",
        "      cv_score.append(score1)\n",
        "      yhat=model.predict(DF.iloc[p,])\n",
        "      diff=yhat-y[p]\n",
        "      mse=np.mean(np.dot(diff,diff.T))\n",
        "      mse_cv.append(mse)\n",
        "    \n",
        "mse_cv"
      ],
      "metadata": {
        "colab": {
          "base_uri": "https://localhost:8080/"
        },
        "id": "aB3oq0G8PWk4",
        "outputId": "c68a3675-ed22-4694-a811-076c17d93858"
      },
      "execution_count": 10,
      "outputs": [
        {
          "output_type": "execute_result",
          "data": {
            "text/plain": [
              "[7.176191055613299,\n",
              " 24.805857231246762,\n",
              " 7.975054265984868,\n",
              " 10.961431041998791,\n",
              " 22.922172231581783]"
            ]
          },
          "metadata": {},
          "execution_count": 10
        }
      ]
    },
    {
      "cell_type": "code",
      "source": [
        "plt.plot(mse_cv)"
      ],
      "metadata": {
        "colab": {
          "base_uri": "https://localhost:8080/",
          "height": 282
        },
        "id": "LOtXUocZ0ZyB",
        "outputId": "89e2dc53-c341-4d0d-82b8-c48b83fb5cb2"
      },
      "execution_count": 23,
      "outputs": [
        {
          "output_type": "execute_result",
          "data": {
            "text/plain": [
              "[<matplotlib.lines.Line2D at 0x7f00700cf810>]"
            ]
          },
          "metadata": {},
          "execution_count": 23
        },
        {
          "output_type": "display_data",
          "data": {
            "text/plain": [
              "<Figure size 432x288 with 1 Axes>"
            ],
            "image/png": "[encoded data removed]"
          },
          "metadata": {
            "needs_background": "light"
          }
        }
      ]
    },
    {
      "cell_type": "code",
      "source": [
        ""
      ],
      "metadata": {
        "colab": {
          "base_uri": "https://localhost:8080/"
        },
        "id": "UpOL85IUT0wU",
        "outputId": "67ed47cc-ba96-4b28-cd73-70d983cb790a"
      },
      "execution_count": 19,
      "outputs": [
        {
          "output_type": "stream",
          "name": "stdout",
          "text": [
            "0\n",
            "1\n",
            "2\n"
          ]
        }
      ]
    },
    {
      "cell_type": "code",
      "source": [
        ""
      ],
      "metadata": {
        "colab": {
          "base_uri": "https://localhost:8080/"
        },
        "id": "3WyFfCOg44rJ",
        "outputId": "0d013530-64d7-46e8-c988-8613751dca3f"
      },
      "execution_count": 73,
      "outputs": [
        {
          "output_type": "execute_result",
          "data": {
            "text/plain": [
              "[6.0,\n",
              " 18.0,\n",
              " 0.0,\n",
              " 1.0,\n",
              " 16.0,\n",
              " 5.0,\n",
              " 4.0,\n",
              " 10.0,\n",
              " 12.0,\n",
              " 11.0,\n",
              " 19.0,\n",
              " 15.0,\n",
              " 2.0,\n",
              " 13.0,\n",
              " 17.0,\n",
              " 7.0,\n",
              " 8.0,\n",
              " 0.0,\n",
              " 14.0,\n",
              " 9.0,\n",
              " 1.0,\n",
              " 3.0]"
            ]
          },
          "metadata": {},
          "execution_count": 73
        }
      ]
    },
    {
      "cell_type": "code",
      "source": [
        "DF.shape[0]"
      ],
      "metadata": {
        "colab": {
          "base_uri": "https://localhost:8080/"
        },
        "id": "VDPNvsa5gAiJ",
        "outputId": "d9b62f3d-c4d4-40ef-b349-270e325f5139"
      },
      "execution_count": 57,
      "outputs": [
        {
          "output_type": "execute_result",
          "data": {
            "text/plain": [
              "22"
            ]
          },
          "metadata": {},
          "execution_count": 57
        }
      ]
    },
    {
      "cell_type": "code",
      "source": [
        "Y=np.random.randint(10,size=10)\n",
        "Y"
      ],
      "metadata": {
        "colab": {
          "base_uri": "https://localhost:8080/"
        },
        "id": "DqWZ-1UJwx7_",
        "outputId": "921b713a-04db-4013-e6c2-9669d8b77596"
      },
      "execution_count": 4,
      "outputs": [
        {
          "output_type": "execute_result",
          "data": {
            "text/plain": [
              "array([4, 4, 6, 8, 4, 7, 4, 3, 6, 3])"
            ]
          },
          "metadata": {},
          "execution_count": 4
        }
      ]
    },
    {
      "cell_type": "code",
      "source": [
        "from sklearn.linear_model import Ridge,Lasso,ElasticNet"
      ],
      "metadata": {
        "id": "U2kD9QTHb-CJ"
      },
      "execution_count": 8,
      "outputs": []
    },
    {
      "cell_type": "code",
      "source": [
        "from sklearn.model_selection import GridSearchCV"
      ],
      "metadata": {
        "id": "kb28Yx0gcPvu"
      },
      "execution_count": 9,
      "outputs": []
    },
    {
      "cell_type": "code",
      "source": [
        "x=[]\n",
        "for i in range(20):\n",
        "   x.append(i)"
      ],
      "metadata": {
        "id": "cHvZC_vNdItu"
      },
      "execution_count": 13,
      "outputs": []
    },
    {
      "cell_type": "code",
      "source": [
        "np.array(x)"
      ],
      "metadata": {
        "colab": {
          "base_uri": "https://localhost:8080/"
        },
        "id": "n_0LXpkUdw-M",
        "outputId": "c0c91c51-30ef-47da-bf5e-b2e14a109e07"
      },
      "execution_count": 14,
      "outputs": [
        {
          "output_type": "execute_result",
          "data": {
            "text/plain": [
              "array([ 0,  1,  2,  3,  4,  5,  6,  7,  8,  9, 10, 11, 12, 13, 14, 15, 16,\n",
              "       17, 18, 19])"
            ]
          },
          "metadata": {},
          "execution_count": 14
        }
      ]
    },
    {
      "cell_type": "code",
      "source": [
        ""
      ],
      "metadata": {
        "colab": {
          "base_uri": "https://localhost:8080/",
          "height": 218
        },
        "id": "3jTqNYG6d1dc",
        "outputId": "ded841f0-bb95-4053-811f-0e5263319ac8"
      },
      "execution_count": 20,
      "outputs": [
        {
          "output_type": "error",
          "ename": "ValueError",
          "evalue": "ignored",
          "traceback": [
            "\u001b[0;31m---------------------------------------------------------------------------\u001b[0m",
            "\u001b[0;31mValueError\u001b[0m                                Traceback (most recent call last)",
            "\u001b[0;32m<ipython-input-20-fecdc82596a1>\u001b[0m in \u001b[0;36m<module>\u001b[0;34m()\u001b[0m\n\u001b[0;32m----> 1\u001b[0;31m \u001b[0mnp\u001b[0m\u001b[0;34m.\u001b[0m\u001b[0mconcatenate\u001b[0m\u001b[0;34m(\u001b[0m\u001b[0;34m(\u001b[0m\u001b[0mx\u001b[0m\u001b[0;34m,\u001b[0m\u001b[0mX\u001b[0m\u001b[0;34m)\u001b[0m\u001b[0;34m,\u001b[0m\u001b[0maxis\u001b[0m\u001b[0;34m=\u001b[0m\u001b[0;36m0\u001b[0m\u001b[0;34m)\u001b[0m\u001b[0;34m\u001b[0m\u001b[0;34m\u001b[0m\u001b[0m\n\u001b[0m",
            "\u001b[0;32m<__array_function__ internals>\u001b[0m in \u001b[0;36mconcatenate\u001b[0;34m(*args, **kwargs)\u001b[0m\n",
            "\u001b[0;31mValueError\u001b[0m: all the input arrays must have same number of dimensions, but the array at index 0 has 1 dimension(s) and the array at index 1 has 2 dimension(s)"
          ]
        }
      ]
    }
  ]
}